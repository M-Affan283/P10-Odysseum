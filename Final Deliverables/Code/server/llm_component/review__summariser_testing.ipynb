{
 "cells": [
  {
   "cell_type": "code",
   "execution_count": 1,
   "metadata": {},
   "outputs": [
    {
     "data": {
      "text/plain": [
       "True"
      ]
     },
     "execution_count": 1,
     "metadata": {},
     "output_type": "execute_result"
    }
   ],
   "source": [
    "#we will be making a review summarizer using the langchain library.\n",
    "# get revews of a business or a location from mongodb and summarize them using langchain\n",
    "\n",
    "import pymongo\n",
    "import json\n",
    "from bson import ObjectId\n",
    "import os\n",
    "from dotenv import load_dotenv\n",
    "from langchain_groq import ChatGroq\n",
    "from langchain.prompts import PromptTemplate\n",
    "\n",
    "load_dotenv(dotenv_path=\"../config.env\")"
   ]
  },
  {
   "cell_type": "code",
   "execution_count": 6,
   "metadata": {},
   "outputs": [
    {
     "name": "stdout",
     "output_type": "stream",
     "text": [
      "['Service', 'PostReport', 'Report', 'Review', 'Business', 'Chat', 'Booking', 'Comment', 'Message', 'Location', 'Post', 'User', 'Itinerary']\n",
      "{'_id': ObjectId('67813933b4e348d916a9047d'), 'creatorId': ObjectId('672f358fb3e56fac046d76a5'), 'entityType': 'Location', 'entityId': ObjectId('6781353badab4c338ff55148'), 'rating': 4.5, 'reviewContent': 'This is some test review content.', 'imageUrls': [], 'upvotes': [], 'downvotes': [], 'createdAt': datetime.datetime(2025, 1, 10, 15, 13, 55, 665000), 'updatedAt': datetime.datetime(2025, 1, 10, 15, 13, 55, 665000), '__v': 0}\n",
      "{'_id': ObjectId('6784c5849514a22d7407e4f9'), 'creatorId': ObjectId('672f358fb3e56fac046d76a5'), 'entityType': 'Location', 'entityId': ObjectId('6781353badab4c338ff55148'), 'rating': 1.5, 'title': 'Hello review', 'reviewContent': 'Another test review and it works!! Without photos for now', 'imageUrls': [], 'upvotes': [], 'downvotes': [], 'createdAt': datetime.datetime(2025, 1, 13, 7, 49, 24, 24000), 'updatedAt': datetime.datetime(2025, 1, 13, 7, 49, 24, 24000), '__v': 0}\n",
      "{'_id': ObjectId('679a55a46397d406c9c4f2cf'), 'creatorId': ObjectId('672f358fb3e56fac046d76a5'), 'entityType': 'Location', 'entityId': ObjectId('6781353badab4c338ff55148'), 'rating': 2.5, 'title': 'My title', 'reviewContent': 'This was test review content to test transactions.', 'imageUrls': [], 'upvotes': [], 'downvotes': [], 'createdAt': datetime.datetime(2025, 1, 29, 16, 21, 56, 635000), 'updatedAt': datetime.datetime(2025, 1, 29, 16, 21, 56, 635000), '__v': 0}\n"
     ]
    }
   ],
   "source": [
    "# setup mongodb connection\n",
    "def connect_to_db():\n",
    "    db_client = pymongo.MongoClient(os.getenv(\"MONGODB_URI_LOCAL\"))\n",
    "    db = db_client['OdysseumDataBase']\n",
    "    print(db.list_collection_names())\n",
    "    return db\n",
    "\n",
    "def get_reviews_by_business(business_id):\n",
    "    db = connect_to_db()\n",
    "    collection = db['Review']\n",
    "    reviews = collection.find({\"entityId\": ObjectId(business_id)})\n",
    "    return reviews\n",
    "\n",
    "#run test on the get_reviews_by_business function\n",
    "reviews = list(get_reviews_by_business(\"6781353badab4c338ff55148\"))\n",
    "\n",
    "for review in reviews:\n",
    "    print(review)\n"
   ]
  },
  {
   "cell_type": "code",
   "execution_count": null,
   "metadata": {},
   "outputs": [],
   "source": [
    "#langchain setup\n",
    "\n",
    "def get_langchain_api_key():\n",
    "    return os.getenv(\"GROQ_API_KEY\")\n",
    "\n",
    "def initialize_llm_client():\n",
    "    # api_key = get_langchain_api_key()\n",
    "    # chat_groq = ChatGroq(api_key)\n",
    "    model_name=\"llama-3.1-8b-instant\"\n",
    "    llm_client = ChatGroq(model=model_name)\n",
    "    return llm_client\n",
    "\n",
    "def summarize_reviews(reviews):\n",
    "    llm_client = initialize_llm_client()\n",
    "    \n",
    "    review_texts = []\n",
    "    for review in reviews:\n",
    "        # Format each review with relevant information\n",
    "        review_text = f\"Rating: {review.get('rating', 'N/A')}/5, Title: {review.get('title', 'N/A')}, Content: {review.get('reviewContent', 'N/A')}\"\n",
    "        # print(review_text)\n",
    "        review_texts.append(review_text)\n",
    "    \n",
    "    # Join all review texts\n",
    "    all_reviews = \"\\n\\n\".join(review_texts)\n",
    "\n",
    "    # print(all_reviews)\n",
    "    \n",
    "    # # Create a proper prompt template with input variables\n",
    "    prompt_template = PromptTemplate(\n",
    "        input_variables=[\"reviews\"],\n",
    "        template=\"\"\"\n",
    "        You are an expert summariser of user reviews for businesses and tourist destinations.\n",
    "        You are tasked with summarising the reviews of a business or tourist destination. The summary should be short and concise, \n",
    "        and should capture the essence of the reviews. It should also provide an overview of user sentiments towards the business or destination.\n",
    "        The reviews are written by users who have visited the business or destination. If you find some user with an interesting opinion, be sure to include it in the summary.\n",
    "        \n",
    "        Input:\n",
    "        List of reviews related to the business or destination: {reviews}\n",
    "\n",
    "        Output:\n",
    "        A maximum of 6-7 lines paragraph summarising the reviews and user sentiments towards the business or destination.\n",
    "\n",
    "        DO NOT add any extra information. Only the summary is required.\n",
    "        \"\"\"\n",
    "    )\n",
    "    \n",
    "    # Invoke the LLM with the reviews\n",
    "    chain = prompt_template | llm_client\n",
    "    summary = chain.invoke({\"reviews\": all_reviews})\n",
    "    \n",
    "    return summary\n",
    "\n",
    "#run test on the summarize_reviews function\n",
    "summary = summarize_reviews(reviews)\n",
    "# print(summary)"
   ]
  },
  {
   "cell_type": "code",
   "execution_count": 11,
   "metadata": {},
   "outputs": [
    {
     "name": "stdout",
     "output_type": "stream",
     "text": [
      "Based on the provided reviews, the overall sentiment towards the business or destination is mixed. Most users seem to appreciate the experience, as seen in the 4.5-star review with positive content. However, some users have had disappointing experiences, like the 1.5-star review mentioning it works fine without photos. Another user had an average experience, stating it was a test review. The reviews suggest a need for improvement in certain areas to meet user expectations.\n"
     ]
    }
   ],
   "source": [
    "print(summary.content)"
   ]
  }
 ],
 "metadata": {
  "kernelspec": {
   "display_name": ".venv",
   "language": "python",
   "name": "python3"
  },
  "language_info": {
   "codemirror_mode": {
    "name": "ipython",
    "version": 3
   },
   "file_extension": ".py",
   "mimetype": "text/x-python",
   "name": "python",
   "nbconvert_exporter": "python",
   "pygments_lexer": "ipython3",
   "version": "3.12.3"
  }
 },
 "nbformat": 4,
 "nbformat_minor": 2
}
