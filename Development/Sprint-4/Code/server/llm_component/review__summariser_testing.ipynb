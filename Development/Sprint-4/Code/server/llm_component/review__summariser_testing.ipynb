{
 "cells": [
  {
   "cell_type": "code",
   "execution_count": null,
   "metadata": {},
   "outputs": [],
   "source": [
    "#we will be making a review summarizer using the langchain library.\n",
    "# get revews of a business or a location from mongodb and summarize them using langchain\n",
    "\n",
    "import pymongo\n",
    "import json\n",
    "import os\n",
    "from langchain_groq import ChatGroq\n",
    "from langchain.chains.combine_documents.stuff import StuffDocumentsChain\n",
    "from langchain.prompts import PromptTemplate"
   ]
  }
 ],
 "metadata": {
  "kernelspec": {
   "display_name": "Python 3",
   "language": "python",
   "name": "python3"
  },
  "language_info": {
   "name": "python",
   "version": "3.11.9"
  }
 },
 "nbformat": 4,
 "nbformat_minor": 2
}
